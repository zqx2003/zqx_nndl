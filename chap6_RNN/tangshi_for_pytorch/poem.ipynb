{
 "cells": [
  {
   "cell_type": "code",
   "execution_count": 1,
   "id": "109f88a3-857b-4f79-9ef5-79d3cbadf825",
   "metadata": {
    "scrolled": true,
    "tags": []
   },
   "outputs": [
    {
     "name": "stdout",
     "output_type": "stream",
     "text": [
      "inital linear weight \n",
      "日千里，春日无人。\n",
      "不得不得知我意，不知何处不相留。\n"
     ]
    },
    {
     "name": "stderr",
     "output_type": "stream",
     "text": [
      "D:\\jupyter_workspace\\venv\\pytorch\\Lib\\site-packages\\torch\\nn\\modules\\module.py:1511: UserWarning: Implicit dimension choice for log_softmax has been deprecated. Change the call to include dim=X as an argument.\n",
      "  return self._call_impl(*args, **kwargs)\n"
     ]
    },
    {
     "name": "stdout",
     "output_type": "stream",
     "text": [
      "inital linear weight \n",
      "红尘，青山无。\n",
      "inital linear weight \n",
      "山作时时，不知无尘空。\n",
      "不知何处见，不得不相随。\n",
      "inital linear weight \n",
      "夜鸡，何为此心。\n",
      "今朝不得心，今日无为君。\n",
      "inital linear weight \n",
      "湖山空相见。\n",
      "一人皆，三十年。\n",
      "inital linear weight \n",
      "海，日出天。\n",
      "不见天地千万重，不知何处不相留。\n",
      "inital linear weight \n",
      "月初起，天上天中情。\n",
      "一朝如有人，不知今日时。\n",
      "inital linear weight \n",
      "君王侯家，不得。\n",
      "我今不得知，不知今不得。\n"
     ]
    }
   ],
   "source": [
    "%run main.py"
   ]
  },
  {
   "cell_type": "code",
   "execution_count": null,
   "id": "6fd33947-9c36-447e-acca-7b7010031c58",
   "metadata": {},
   "outputs": [],
   "source": []
  }
 ],
 "metadata": {
  "kernelspec": {
   "display_name": "pytorch",
   "language": "python",
   "name": "pytorch"
  },
  "language_info": {
   "codemirror_mode": {
    "name": "ipython",
    "version": 3
   },
   "file_extension": ".py",
   "mimetype": "text/x-python",
   "name": "python",
   "nbconvert_exporter": "python",
   "pygments_lexer": "ipython3",
   "version": "3.11.3"
  }
 },
 "nbformat": 4,
 "nbformat_minor": 5
}
