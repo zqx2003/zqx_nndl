{
 "cells": [
  {
   "cell_type": "markdown",
   "metadata": {},
   "source": [
    "## 准备数据"
   ]
  },
  {
   "cell_type": "code",
   "execution_count": 1,
   "metadata": {},
   "outputs": [
    {
     "name": "stdout",
     "output_type": "stream",
     "text": [
      "WARNING:tensorflow:From D:\\jupyter_workspace\\venv\\tensorflow\\Lib\\site-packages\\keras\\src\\losses.py:2976: The name tf.losses.sparse_softmax_cross_entropy is deprecated. Please use tf.compat.v1.losses.sparse_softmax_cross_entropy instead.\n",
      "\n"
     ]
    }
   ],
   "source": [
    "import os\n",
    "import numpy as np\n",
    "import tensorflow as tf\n",
    "from tensorflow import keras\n",
    "from tensorflow.keras import layers, optimizers, datasets\n",
    "\n",
    "os.environ['TF_CPP_MIN_LOG_LEVEL'] = '2'  # or any {'0', '1', '2'}\n",
    "\n",
    "def mnist_dataset():\n",
    "    (x, y), (x_test, y_test) = datasets.mnist.load_data()\n",
    "    #normalize\n",
    "    x = x/255.0\n",
    "    x_test = x_test/255.0\n",
    "    \n",
    "    return (x, y), (x_test, y_test)"
   ]
  },
  {
   "cell_type": "code",
   "execution_count": 2,
   "metadata": {},
   "outputs": [
    {
     "name": "stdout",
     "output_type": "stream",
     "text": [
      "[(1, 'a'), (2, 'b'), (3, 'c'), (4, 'd')]\n"
     ]
    }
   ],
   "source": [
    "print(list(zip([1, 2, 3, 4], ['a', 'b', 'c', 'd'])))"
   ]
  },
  {
   "cell_type": "markdown",
   "metadata": {},
   "source": [
    "## 建立模型"
   ]
  },
  {
   "cell_type": "code",
   "execution_count": 3,
   "metadata": {},
   "outputs": [],
   "source": [
    "class myModel:\n",
    "    def __init__(self):\n",
    "        ####################\n",
    "        '''声明模型对应的参数'''\n",
    "        ####################\n",
    "        self.W1 = tf.Variable(tf.random.normal([28 * 28, 256]), name=\"Weight1\")\n",
    "        self.b1 = tf.Variable(tf.random.normal([1, 256]), name=\"bias1\")\n",
    "        \n",
    "        self.W2 = tf.Variable(tf.random.normal([256, 128]), name=\"Weight2\")\n",
    "        self.b2 = tf.Variable(tf.random.normal([1, 128]), name=\"bias2\")\n",
    "        \n",
    "        self.W3 = tf.Variable(tf.random.normal([128, 10]), name=\"Weight3\")\n",
    "        self.b3 = tf.Variable(tf.random.normal([1, 10]), name=\"bias3\")\n",
    "        \n",
    "    @tf.function\n",
    "    def __call__(self, x):\n",
    "        ####################\n",
    "        '''实现模型函数体，返回未归一化的logits'''\n",
    "        ####################\n",
    "        x = tf.reshape(x, shape=(-1, 28 * 28))\n",
    "        \n",
    "        h1 = tf.nn.relu(x @ self.W1 + self.b1)\n",
    "        h2 = tf.nn.relu(h1 @ self.W2 + self.b2)\n",
    "        logits = h2 @ self.W3 + self.b3\n",
    "        \n",
    "        return logits\n",
    "        \n",
    "model = myModel()\n",
    "\n",
    "optimizer = optimizers.Adam()"
   ]
  },
  {
   "cell_type": "markdown",
   "metadata": {},
   "source": [
    "## 计算 loss"
   ]
  },
  {
   "cell_type": "code",
   "execution_count": 4,
   "metadata": {},
   "outputs": [],
   "source": [
    "@tf.function\n",
    "def compute_loss(logits, labels):\n",
    "    return tf.reduce_mean(\n",
    "        tf.nn.sparse_softmax_cross_entropy_with_logits(\n",
    "            logits=logits, labels=labels))\n",
    "\n",
    "@tf.function\n",
    "def compute_accuracy(logits, labels):\n",
    "    predictions = tf.argmax(logits, axis=1)\n",
    "    return tf.reduce_mean(tf.cast(tf.equal(predictions, labels), tf.float32))\n",
    "\n",
    "@tf.function\n",
    "def train_one_step(model, optimizer, x, y):\n",
    "    with tf.GradientTape() as tape:\n",
    "        logits = model(x)\n",
    "        loss = compute_loss(logits, y)\n",
    "\n",
    "    # compute gradient\n",
    "    trainable_vars = [model.W1, model.W2, model.b1, model.b2]\n",
    "    grads = tape.gradient(loss, trainable_vars)\n",
    "    for g, v in zip(grads, trainable_vars):\n",
    "        v.assign_sub(0.01*g)\n",
    "\n",
    "    accuracy = compute_accuracy(logits, y)\n",
    "\n",
    "    # loss and accuracy is scalar tensor\n",
    "    return loss, accuracy\n",
    "\n",
    "@tf.function\n",
    "def test(model, x, y):\n",
    "    logits = model(x)\n",
    "    loss = compute_loss(logits, y)\n",
    "    accuracy = compute_accuracy(logits, y)\n",
    "    return loss, accuracy"
   ]
  },
  {
   "cell_type": "markdown",
   "metadata": {},
   "source": [
    "## 实际训练"
   ]
  },
  {
   "cell_type": "code",
   "execution_count": 7,
   "metadata": {
    "scrolled": false
   },
   "outputs": [
    {
     "name": "stdout",
     "output_type": "stream",
     "text": [
      "epoch 0 : loss 52.13048 ; accuracy 0.7995\n",
      "epoch 1 : loss 51.84316 ; accuracy 0.8\n",
      "epoch 2 : loss 51.55933 ; accuracy 0.8006667\n",
      "epoch 3 : loss 51.279415 ; accuracy 0.80156666\n",
      "epoch 4 : loss 51.004433 ; accuracy 0.80216664\n",
      "epoch 5 : loss 50.734016 ; accuracy 0.80266666\n",
      "epoch 6 : loss 50.467487 ; accuracy 0.80345\n",
      "epoch 7 : loss 50.205124 ; accuracy 0.8042167\n",
      "epoch 8 : loss 49.94667 ; accuracy 0.80478334\n",
      "epoch 9 : loss 49.69243 ; accuracy 0.8057167\n",
      "epoch 10 : loss 49.44269 ; accuracy 0.80658334\n",
      "epoch 11 : loss 49.197193 ; accuracy 0.80726665\n",
      "epoch 12 : loss 48.955208 ; accuracy 0.8078167\n",
      "epoch 13 : loss 48.71671 ; accuracy 0.80838335\n",
      "epoch 14 : loss 48.48131 ; accuracy 0.8088833\n",
      "epoch 15 : loss 48.24946 ; accuracy 0.8097\n",
      "epoch 16 : loss 48.0216 ; accuracy 0.8103667\n",
      "epoch 17 : loss 47.79725 ; accuracy 0.81083333\n",
      "epoch 18 : loss 47.57604 ; accuracy 0.8113833\n",
      "epoch 19 : loss 47.35783 ; accuracy 0.81196666\n",
      "epoch 20 : loss 47.142334 ; accuracy 0.8124\n",
      "epoch 21 : loss 46.929615 ; accuracy 0.81298333\n",
      "epoch 22 : loss 46.719788 ; accuracy 0.81375\n",
      "epoch 23 : loss 46.512566 ; accuracy 0.81413335\n",
      "epoch 24 : loss 46.307983 ; accuracy 0.8146833\n",
      "epoch 25 : loss 46.105804 ; accuracy 0.8150833\n",
      "epoch 26 : loss 45.90606 ; accuracy 0.81548333\n",
      "epoch 27 : loss 45.708717 ; accuracy 0.8161167\n",
      "epoch 28 : loss 45.513832 ; accuracy 0.8167667\n",
      "epoch 29 : loss 45.320915 ; accuracy 0.8171667\n",
      "epoch 30 : loss 45.13019 ; accuracy 0.81776667\n",
      "epoch 31 : loss 44.94188 ; accuracy 0.8182667\n",
      "epoch 32 : loss 44.7558 ; accuracy 0.81871665\n",
      "epoch 33 : loss 44.57114 ; accuracy 0.81918335\n",
      "epoch 34 : loss 44.388447 ; accuracy 0.81976664\n",
      "epoch 35 : loss 44.2079 ; accuracy 0.8200333\n",
      "epoch 36 : loss 44.02909 ; accuracy 0.82035\n",
      "epoch 37 : loss 43.851826 ; accuracy 0.82068336\n",
      "epoch 38 : loss 43.67661 ; accuracy 0.8211833\n",
      "epoch 39 : loss 43.5035 ; accuracy 0.82163334\n",
      "epoch 40 : loss 43.33205 ; accuracy 0.82201666\n",
      "epoch 41 : loss 43.16226 ; accuracy 0.8225333\n",
      "epoch 42 : loss 42.994232 ; accuracy 0.82301664\n",
      "epoch 43 : loss 42.82838 ; accuracy 0.82345\n",
      "epoch 44 : loss 42.664375 ; accuracy 0.82371664\n",
      "epoch 45 : loss 42.50216 ; accuracy 0.8240833\n",
      "epoch 46 : loss 42.341663 ; accuracy 0.8246\n",
      "epoch 47 : loss 42.182903 ; accuracy 0.8251333\n",
      "epoch 48 : loss 42.02585 ; accuracy 0.82555\n",
      "epoch 49 : loss 41.8704 ; accuracy 0.82596666\n",
      "test loss 42.020123 ; accuracy 0.8274\n"
     ]
    }
   ],
   "source": [
    "train_data, test_data = mnist_dataset()\n",
    "for epoch in range(50):\n",
    "    loss, accuracy = train_one_step(model, optimizer, \n",
    "                                    tf.constant(train_data[0], dtype=tf.float32), \n",
    "                                    tf.constant(train_data[1], dtype=tf.int64))\n",
    "    print('epoch', epoch, ': loss', loss.numpy(), '; accuracy', accuracy.numpy())\n",
    "loss, accuracy = test(model, \n",
    "                      tf.constant(test_data[0], dtype=tf.float32), \n",
    "                      tf.constant(test_data[1], dtype=tf.int64))\n",
    "\n",
    "print('test loss', loss.numpy(), '; accuracy', accuracy.numpy())"
   ]
  },
  {
   "cell_type": "code",
   "execution_count": null,
   "metadata": {},
   "outputs": [],
   "source": []
  }
 ],
 "metadata": {
  "kernelspec": {
   "display_name": "tensorflow",
   "language": "python",
   "name": "tensorflow"
  },
  "language_info": {
   "codemirror_mode": {
    "name": "ipython",
    "version": 3
   },
   "file_extension": ".py",
   "mimetype": "text/x-python",
   "name": "python",
   "nbconvert_exporter": "python",
   "pygments_lexer": "ipython3",
   "version": "3.11.3"
  }
 },
 "nbformat": 4,
 "nbformat_minor": 2
}
